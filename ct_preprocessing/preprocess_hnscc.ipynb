{
 "cells": [
  {
   "cell_type": "markdown",
   "id": "c746a54c",
   "metadata": {},
   "source": [
    "### Imports & constants"
   ]
  },
  {
   "cell_type": "code",
   "execution_count": 1,
   "id": "69ad7134",
   "metadata": {},
   "outputs": [],
   "source": [
    "import os\n",
    "import glob\n",
    "\n",
    "import numpy as np\n",
    "import matplotlib.pyplot as plt\n",
    "\n",
    "import utils"
   ]
  },
  {
   "cell_type": "code",
   "execution_count": 2,
   "id": "70e4334b",
   "metadata": {},
   "outputs": [],
   "source": [
    "HNSCC_PATH = os.path.join(os.curdir, 'datasets', 'HNSCC')\n",
    "OUTPUT_PATH = os.path.join(os.curdir, 'output', 'HNSCC.npz')"
   ]
  },
  {
   "cell_type": "markdown",
   "id": "e1f3d7f9",
   "metadata": {},
   "source": [
    "### Data processing"
   ]
  },
  {
   "cell_type": "code",
   "execution_count": 3,
   "id": "5f447ad7",
   "metadata": {},
   "outputs": [],
   "source": [
    "imgs_s = [] # np.array with sagittal MIPs\n",
    "imgs_f = [] # np.array with frontal MIPs\n",
    "ids = [] # np.array with CTs identifiers\n",
    "thicks = [] # np.array with CTs slices' thicknesses"
   ]
  },
  {
   "cell_type": "code",
   "execution_count": 4,
   "id": "d4a0cff7",
   "metadata": {},
   "outputs": [],
   "source": [
    "subdirs = glob.glob(os.path.join(HNSCC_PATH, '*', '*', '*'))\n",
    "subdirs = [subdir for subdir in subdirs if len(os.listdir(subdir)) > 1]"
   ]
  },
  {
   "cell_type": "code",
   "execution_count": 5,
   "id": "a10d351f",
   "metadata": {},
   "outputs": [],
   "source": [
    "for i, subdir in enumerate(subdirs):\n",
    "    # --- loading CT ---\n",
    "    try:\n",
    "        img, spacings, slice_thickness = utils.read_dicom(subdir)\n",
    "    except ValueError as e:\n",
    "        print(f'An exception for {subdir} occured: {str(e)}')\n",
    "        continue\n",
    "    \n",
    "    # --- preprocessing CT ---\n",
    "    # converting to HU scale\n",
    "    img = utils.to_HU(img)\n",
    "    \n",
    "    # mass center calculation + 0ing everything outside body\n",
    "    img, center_h, center_w = utils.get_mass_center(img)\n",
    "    \n",
    "    # frontal MIP\n",
    "    img_cropped = utils.crop_ct(img, center_h, center_w)\n",
    "    img_mip_f = np.amax(img_cropped, axis=0)\n",
    "    img_mip_f = np.swapaxes(img_mip_f, 0, 1)\n",
    "    \n",
    "    # rescaling to 1mm x 1mm\n",
    "    img_mip_f = utils.rescale_mip(img_mip_f, spacings[0], slice_thickness)\n",
    "    \n",
    "    # sagittal MIP\n",
    "    img_cropped = utils.crop_ct(img, center_h, center_w, for_frontal=False)\n",
    "    img_mip_s = np.amax(img_cropped, axis=1) \n",
    "    img_mip_s = np.swapaxes(img_mip_s, 0, 1)\n",
    "    \n",
    "    # rescaling to 1mm x 1mm\n",
    "    img_mip_s = utils.rescale_mip(img_mip_s, spacings[0], slice_thickness)\n",
    "    \n",
    "    # saving\n",
    "    imgs_s.append(img_mip_s)\n",
    "    imgs_f.append(img_mip_f)\n",
    "    ids.append(subdir.split('/')[4])\n",
    "    thicks.append(slice_thickness)"
   ]
  },
  {
   "cell_type": "code",
   "execution_count": 6,
   "id": "7b49621a",
   "metadata": {},
   "outputs": [
    {
     "name": "stderr",
     "output_type": "stream",
     "text": [
      "/home/dittohead/miniconda3/envs/thesis/lib/python3.8/site-packages/numpy/core/_asarray.py:83: VisibleDeprecationWarning: Creating an ndarray from ragged nested sequences (which is a list-or-tuple of lists-or-tuples-or ndarrays with different lengths or shapes) is deprecated. If you meant to do this, you must specify 'dtype=object' when creating the ndarray\n",
      "  return array(a, dtype, copy=False, order=order)\n"
     ]
    }
   ],
   "source": [
    "# exporting to .npz\n",
    "imgs_s = np.asarray(imgs_s)\n",
    "imgs_f = np.asarray(imgs_f)\n",
    "ids = np.asarray(ids)\n",
    "thicks = np.asarray(thicks)\n",
    "n_mips = imgs_s.shape[0]\n",
    "\n",
    "np.savez_compressed(OUTPUT_PATH, imgs_s=imgs_s, imgs_f=imgs_f, ids=ids, thicks=thicks, n_mips=n_mips)"
   ]
  }
 ],
 "metadata": {
  "kernelspec": {
   "display_name": "Python 3",
   "language": "python",
   "name": "python3"
  },
  "language_info": {
   "codemirror_mode": {
    "name": "ipython",
    "version": 3
   },
   "file_extension": ".py",
   "mimetype": "text/x-python",
   "name": "python",
   "nbconvert_exporter": "python",
   "pygments_lexer": "ipython3",
   "version": "3.8.12"
  }
 },
 "nbformat": 4,
 "nbformat_minor": 5
}
