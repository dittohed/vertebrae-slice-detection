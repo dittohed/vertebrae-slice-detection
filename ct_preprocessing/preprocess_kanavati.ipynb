{
 "cells": [
  {
   "cell_type": "markdown",
   "id": "ad51a12e",
   "metadata": {},
   "source": [
    "### Imports & constants"
   ]
  },
  {
   "cell_type": "code",
   "execution_count": 1,
   "id": "adcaa11f",
   "metadata": {},
   "outputs": [],
   "source": [
    "import os\n",
    "import numpy as np\n",
    "import matplotlib.pyplot as plt\n",
    "from random import sample\n",
    "import cv2\n",
    "\n",
    "from scipy.ndimage import zoom"
   ]
  },
  {
   "cell_type": "code",
   "execution_count": 2,
   "id": "93ef84c0",
   "metadata": {},
   "outputs": [],
   "source": [
    "KANAVATI_PATH = os.path.join(os.curdir, 'datasets', 'Kanavati')\n",
    "OUTPUT_PATH = os.path.join(os.curdir, 'output', 'Kanavati.npz')"
   ]
  },
  {
   "cell_type": "markdown",
   "id": "8d1cd23d",
   "metadata": {},
   "source": [
    "### Data processing"
   ]
  },
  {
   "cell_type": "code",
   "execution_count": 3,
   "id": "731c8ee4",
   "metadata": {},
   "outputs": [],
   "source": [
    "imgs_s = [] # np.array with sagittal MIPs\n",
    "imgs_f = [] # np.array with frontal MIPs\n",
    "v_levels = [] # np.array with labels in mm\n",
    "ids = [] # np.array with CTs identifiers\n",
    "thicks = [] # np.array with CTs slices' thicknesses"
   ]
  },
  {
   "cell_type": "code",
   "execution_count": 4,
   "id": "c88f21d0",
   "metadata": {},
   "outputs": [],
   "source": [
    "data = np.load(os.path.join(KANAVATI_PATH, 'l3_dataset.npz'), allow_pickle=True)"
   ]
  },
  {
   "cell_type": "code",
   "execution_count": 5,
   "id": "d39d99d6",
   "metadata": {},
   "outputs": [],
   "source": [
    "# following authors' convention to decode label\n",
    "names = data['names'] # examination names\n",
    "y = np.zeros_like(names, dtype=np.float32) # array of shape of ex_names\n",
    "y_data = data['ydata']\n",
    "for _, v in y_data.item().items():\n",
    "        y += v\n",
    "y /= len(y_data.item()) # diving by 2"
   ]
  },
  {
   "cell_type": "code",
   "execution_count": null,
   "id": "13289be9",
   "metadata": {},
   "outputs": [],
   "source": [
    "n_images = int(data['num_images'])\n",
    "data_spacings = data['spacings']\n",
    "data_images_s = data['images_s']\n",
    "data_images_f = data['images_f']\n",
    "data_names = data['names']\n",
    "\n",
    "for i in range(n_images): # rescaling to 1mm x 1mm\n",
    "    spacings = data_spacings[i]\n",
    "    thicks.append(spacings[2])\n",
    "    \n",
    "    img_s = data_images_s[i]\n",
    "    img_s = zoom(img_s, [spacings[2], spacings[0]])\n",
    "    imgs_s.append(img_s)\n",
    "    \n",
    "    img_f = data_images_f[i]\n",
    "    img_f = zoom(img_f, [spacings[2], spacings[0]])\n",
    "    imgs_f.append(img_f)\n",
    "    \n",
    "    v_levels.append(\n",
    "        [-1, int(min(np.round(y[i]*spacings[2]), img_s.shape[0]))]) # [T12 level, L3 level]\n",
    "    \n",
    "    ids.append(data_names[i])"
   ]
  },
  {
   "cell_type": "code",
   "execution_count": 7,
   "id": "3c02e2ba",
   "metadata": {},
   "outputs": [
    {
     "name": "stderr",
     "output_type": "stream",
     "text": [
      "/home/dittohead/miniconda3/envs/thesis/lib/python3.8/site-packages/numpy/core/_asarray.py:83: VisibleDeprecationWarning: Creating an ndarray from ragged nested sequences (which is a list-or-tuple of lists-or-tuples-or ndarrays with different lengths or shapes) is deprecated. If you meant to do this, you must specify 'dtype=object' when creating the ndarray\n",
      "  return array(a, dtype, copy=False, order=order)\n"
     ]
    }
   ],
   "source": [
    "# exporting to .npz\n",
    "imgs_s = np.asarray(imgs_s)\n",
    "imgs_f = np.asarray(imgs_f)\n",
    "v_levels = np.asarray(v_levels)\n",
    "ids = np.asarray(ids)\n",
    "thicks = np.asarray(thicks)\n",
    "n_mips = imgs_s.shape[0]\n",
    "\n",
    "np.savez_compressed(OUTPUT_PATH, imgs_s=imgs_s, imgs_f=imgs_f,\n",
    "                    v_levels=v_levels, ids=ids, thicks=thicks, n_mips=n_mips)"
   ]
  }
 ],
 "metadata": {
  "kernelspec": {
   "display_name": "Python 3",
   "language": "python",
   "name": "python3"
  },
  "language_info": {
   "codemirror_mode": {
    "name": "ipython",
    "version": 3
   },
   "file_extension": ".py",
   "mimetype": "text/x-python",
   "name": "python",
   "nbconvert_exporter": "python",
   "pygments_lexer": "ipython3",
   "version": "3.8.12"
  }
 },
 "nbformat": 4,
 "nbformat_minor": 5
}
