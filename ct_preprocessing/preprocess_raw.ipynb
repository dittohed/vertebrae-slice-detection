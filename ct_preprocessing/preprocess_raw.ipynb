{
 "cells": [
  {
   "cell_type": "markdown",
   "id": "b06496dc",
   "metadata": {},
   "source": [
    "### Imports & constants"
   ]
  },
  {
   "cell_type": "code",
   "execution_count": 1,
   "id": "0d4dab0c",
   "metadata": {},
   "outputs": [],
   "source": [
    "import numpy as np\n",
    "import matplotlib.pyplot as plt\n",
    "import glob\n",
    "\n",
    "import os\n",
    "\n",
    "import pandas as pd\n",
    "\n",
    "import utils"
   ]
  },
  {
   "cell_type": "code",
   "execution_count": 2,
   "id": "ee689638",
   "metadata": {},
   "outputs": [],
   "source": [
    "RAW_PATH = os.path.join(os.curdir, 'datasets', 'RAW')\n",
    "OUTPUT_PATH = os.path.join(os.curdir, 'output', 'RAW.npz')"
   ]
  },
  {
   "cell_type": "markdown",
   "id": "bf7aa36b",
   "metadata": {},
   "source": [
    "### Data processing"
   ]
  },
  {
   "cell_type": "code",
   "execution_count": 3,
   "id": "1030b0fb",
   "metadata": {},
   "outputs": [],
   "source": [
    "imgs_s = [] # np.array with sagittal MIPs\n",
    "imgs_f = [] # np.array with frontal MIPs\n",
    "v_levels = [] # np.array with labels in mm\n",
    "ids = [] # np.array with CTs identifiers\n",
    "thicks = [] # np.array with CTs slices' thicknesses"
   ]
  },
  {
   "cell_type": "code",
   "execution_count": 4,
   "id": "a17be312",
   "metadata": {},
   "outputs": [],
   "source": [
    "# reading CTs labels\n",
    "df = pd.read_csv(os.path.join(RAW_PATH, 'labels.csv'), sep=',', index_col='id')\n",
    "df = df.fillna(np.nan)"
   ]
  },
  {
   "cell_type": "code",
   "execution_count": 5,
   "id": "cf41b93c",
   "metadata": {},
   "outputs": [],
   "source": [
    "# reading CTs metadata (slice thickness & spacings)\n",
    "pixels_info = {}\n",
    "\n",
    "with open(os.path.join(RAW_PATH, 'spacings.asc'), 'r') as file:\n",
    "    lines = file.readlines()\n",
    "    \n",
    "    for line in lines:\n",
    "        line_splt = line.split()\n",
    "        \n",
    "        exam_id = int(line_splt[0].split('_')[1])\n",
    "        thickness = float(line_splt[-2])\n",
    "        pixel_spacing = float(line_splt[-1])\n",
    "        \n",
    "        pixels_info[exam_id] = (pixel_spacing, thickness)"
   ]
  },
  {
   "cell_type": "code",
   "execution_count": null,
   "id": "c5c73cd1",
   "metadata": {
    "scrolled": false
   },
   "outputs": [],
   "source": [
    "names = glob.glob(os.path.join(RAW_PATH, '*.raw'))\n",
    "\n",
    "for name in names:\n",
    "    print(name)\n",
    "    \n",
    "    # where name.split('_') is for example ['/home/ditto/thesis/RAWS/Std3D', '46', '512', '178', '.raw']\n",
    "    size = int(name.split('_')[-3])\n",
    "    h = int(name.split('_')[-2])\n",
    "    exam_id = int(name.split('_')[-4])\n",
    "    \n",
    "    if exam_id in ids:\n",
    "        print(f'Done for: {exam_id}')\n",
    "        continue\n",
    "    \n",
    "    try:\n",
    "        img = utils.read_bin(name, size, h, 2, signed='Y', byte_order='LE')\n",
    "    except IndexError:\n",
    "        print(f'Corrupted file: {exam_id}...')\n",
    "        continue\n",
    "    if img is None:\n",
    "        print(f'Wrong number of bytes per voxel for {name}: returned None.')\n",
    "        continue\n",
    "    \n",
    "    # subtracting mask\n",
    "    min1 = np.amin(img)\n",
    "    min2 = np.amin(img[img != min1])\n",
    "    img[img == min1] = min2\n",
    "    \n",
    "    # converting to HU scale\n",
    "    img = utils.to_HU(img)\n",
    "    \n",
    "    # mass center calculation + 0ing everything outside body\n",
    "    img, center_h, center_w = utils.get_mass_center(img)\n",
    "    \n",
    "    # reading labels\n",
    "    t12_level = -1 if np.isnan(df.loc[exam_id]['Th12']) else int(df.loc[exam_id]['Th12'])\n",
    "    l3_level = -1 if np.isnan(df.loc[exam_id]['L3']) else int(df.loc[exam_id]['L3'])\n",
    "    \n",
    "    # frontal MIP \n",
    "    img_cropped = utils.crop_ct(img, center_h, center_w)\n",
    "    img_mip_f = np.amax(img_cropped, axis=0)\n",
    "    img_mip_f = np.swapaxes(img_mip_f, 0, 1)\n",
    "    \n",
    "    # rescaling to 1mm x 1mm\n",
    "    img_mip_f = utils.rescale_mip(img_mip_f, pixels_info[exam_id][0], pixels_info[exam_id][1])\n",
    "    \n",
    "    # sagittal MIP\n",
    "    img_cropped = utils.crop_ct(img, center_h, center_w, for_frontal=False)\n",
    "    img_mip_s = np.amax(img_cropped, axis=1) \n",
    "    img_mip_s = np.swapaxes(img_mip_s, 0, 1)\n",
    "    \n",
    "    # rescaling to 1mm x 1mm\n",
    "    img_mip_s = utils.rescale_mip(img_mip_s, pixels_info[exam_id][0], pixels_info[exam_id][1])\n",
    "    \n",
    "    # saving\n",
    "    imgs_s.append(img_mip_s)\n",
    "    imgs_f.append(img_mip_f)\n",
    "    \n",
    "    t12_level = -1 if np.isnan(t12_level) else t12_level\n",
    "    l3_level = -1 if np.isnan(l3_level) else l3_level\n",
    "    \n",
    "    v_levels.append([t12_level, l3_level])\n",
    "    ids.append(exam_id)\n",
    "    thicks.append(pixels_info[exam_id][1])"
   ]
  },
  {
   "cell_type": "code",
   "execution_count": 7,
   "id": "2afce2b5",
   "metadata": {},
   "outputs": [
    {
     "name": "stderr",
     "output_type": "stream",
     "text": [
      "/home/dittohead/miniconda3/envs/thesis/lib/python3.8/site-packages/numpy/core/_asarray.py:83: VisibleDeprecationWarning: Creating an ndarray from ragged nested sequences (which is a list-or-tuple of lists-or-tuples-or ndarrays with different lengths or shapes) is deprecated. If you meant to do this, you must specify 'dtype=object' when creating the ndarray\n",
      "  return array(a, dtype, copy=False, order=order)\n"
     ]
    }
   ],
   "source": [
    "# exporting to .npz\n",
    "imgs_s = np.asarray(imgs_s)\n",
    "imgs_f = np.asarray(imgs_f)\n",
    "v_levels = np.asarray(v_levels)\n",
    "ids = np.asarray(ids)\n",
    "thicks = np.asarray(thicks)\n",
    "n_mips = imgs_s.shape[0]\n",
    "\n",
    "np.savez_compressed(OUTPUT_PATH, imgs_s=imgs_s, imgs_f=imgs_f,\n",
    "                    v_levels=v_levels, ids=ids, thicks=thicks, n_mips=n_mips)"
   ]
  }
 ],
 "metadata": {
  "kernelspec": {
   "display_name": "Python 3",
   "language": "python",
   "name": "python3"
  },
  "language_info": {
   "codemirror_mode": {
    "name": "ipython",
    "version": 3
   },
   "file_extension": ".py",
   "mimetype": "text/x-python",
   "name": "python",
   "nbconvert_exporter": "python",
   "pygments_lexer": "ipython3",
   "version": "3.8.12"
  }
 },
 "nbformat": 4,
 "nbformat_minor": 5
}
